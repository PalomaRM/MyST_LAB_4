{
 "cells": [
  {
   "cell_type": "markdown",
   "metadata": {},
   "source": [
    "<center> <img src=\"https://oci02.img.iteso.mx/Identidades-De-Instancia/ITESO/Logos%20ITESO/Logo-ITESO-Principal.jpg\" align=\"center\" width=\"650\" height=\"400\"/> </center>"
   ]
  },
  {
   "cell_type": "markdown",
   "metadata": {},
   "source": [
    "<center><font color=#555555><font size=6> MAF1731 - Microstructure and Trading Systems </font> <br> <br>\n",
    "    \n",
    "<center><font color=#555555><font size=5> B.Eng Financial Engineering </font> <br> <br> <br> <br>\n",
    "\n",
    "<center><font color=#555555><font size=6> I.F. Galilea De la Torre Rojas</font> <br> <br>\n",
    "    \n",
    "<center><font color=#555555><font size=6> I.F. Paloma Rodriguez Medel</font> <br> <br>\n",
    "   \n",
    "<center> <font color= #555555> <font size = 4> April 2023 </a> | <font color= #555555> <font size = 4> Repository: <a href='https://github.com/PalomaRM/MyST_LAB_4'>Link</a></font>"
   ]
  },
  {
   "cell_type": "markdown",
   "metadata": {},
   "source": [
    "<hr style=\"border:0.02in solid gray\"> </hr>"
   ]
  },
  {
   "cell_type": "markdown",
   "metadata": {},
   "source": [
    "<center> <font color= #555555> <font size = 6> Lab 4 </font> <br> <br> <font color= #555555> <font size = 5>Microestructura del mercado </font>"
   ]
  },
  {
   "cell_type": "markdown",
   "metadata": {},
   "source": [
    "<hr style=\"border:0.02in solid gray\"> </hr>"
   ]
  },
  {
   "cell_type": "markdown",
   "metadata": {},
   "source": [
    "<br>"
   ]
  },
  {
   "cell_type": "markdown",
   "metadata": {},
   "source": [
    "<font color= #555555> <font size = 4> Abstract </font>"
   ]
  },
  {
   "cell_type": "markdown",
   "metadata": {},
   "source": [
    "<font color= #6B6B6B> <font size = 3>  En este laboratorio usaremos información del Libro de Ordenes de Criptomonedas de diversos exchanges internacionales, con el objetivo primario de visualizar y modelar la microestructura del mercado por medio del comportamiento de Libro de Ordenes y sus caracteristicas como; Matching Engine, Levels, Ask-Bid Volumnes, etc.     </font>"
   ]
  },
  {
   "cell_type": "markdown",
   "metadata": {},
   "source": [
    "<br>"
   ]
  },
  {
   "cell_type": "markdown",
   "metadata": {},
   "source": [
    "# <font color= #6B6B6B> 0. Install/Load Packages and Depedencies </font>"
   ]
  },
  {
   "cell_type": "markdown",
   "metadata": {},
   "source": [
    "<hr style=\"border:0.02in solid gray\"> </hr>"
   ]
  },
  {
   "cell_type": "markdown",
   "metadata": {},
   "source": [
    "## <font color= #6B6B6B> 0.2 Python Packages </font> <font color= #555555>"
   ]
  },
  {
   "cell_type": "markdown",
   "metadata": {},
   "source": [
    "In order to run this notebook, it is necessary to have installed and/or have the _requirements.txt_ file with the following: "
   ]
  },
  {
   "cell_type": "markdown",
   "metadata": {},
   "source": [
    "- pandas\n",
    "- numpy\n",
    "- asyncio\n",
    "- ccxt\n",
    "- time"
   ]
  },
  {
   "cell_type": "markdown",
   "metadata": {},
   "source": [
    "## <font color= #6B6B6B> 0.3 Files Dependencies </font> <font color= #555555>"
   ]
  },
  {
   "cell_type": "markdown",
   "metadata": {},
   "source": [
    "Se utilizaron los siguientes archivos para poder correr el siguiete notebook:\n",
    "- BTCUDSDT.csv\n",
    "- ETHUSDT.csv\n",
    "\n",
    "Por temas de funcionalidad se guardaron los diccionarios como archivos csv para poder manejar los datos, ya que tomaba 1 hora en obtener los datos de la librería."
   ]
  },
  {
   "cell_type": "markdown",
   "metadata": {},
   "source": [
    "files"
   ]
  },
  {
   "cell_type": "markdown",
   "metadata": {},
   "source": [
    "## <font color= #6E6E6E> 0.4 Install Packages</font>"
   ]
  },
  {
   "cell_type": "code",
   "execution_count": 1,
   "metadata": {},
   "outputs": [],
   "source": [
    "%%capture\n",
    "\n",
    "# Install all the pip packages in the requirements.txt\n",
    "import sys\n",
    "!{sys.executable} -m pip install -r requirements.txt"
   ]
  },
  {
   "cell_type": "code",
   "execution_count": 1,
   "metadata": {},
   "outputs": [],
   "source": [
    "%%capture\n",
    "\n",
    "import functions as fn\n",
    "import data as dat\n",
    "import main as mn\n",
    "import pandas as pd"
   ]
  },
  {
   "cell_type": "markdown",
   "metadata": {},
   "source": [
    "## <font color= #6B6B6B> 1. Introducción </font>"
   ]
  },
  {
   "cell_type": "markdown",
   "metadata": {},
   "source": [
    "<font color= #6B6B6B>En el contexto de los mercados financieros, el Libro de Ordenes (LO) es una herramienta fundamental para entender la microestructura del mercado. El LO muestra la oferta y la demanda de un activo financiero en tiempo real, lo que permite a los traders y analistas observar el comportamiento de los participantes del mercado y la evolución de los precios.\n",
    "\n",
    "En este laboratorio, se utilizará la librería ccxt de Python para consultar información del LO de criptomonedas de diversos exchanges internacionales y extraer datos relevantes como el volumen de compra y venta, el spread y el precio promedio. El objetivo principal es visualizar y modelar la microestructura del mercado a través del comportamiento del LO y sus características, como el Matching Engine, los niveles y los volúmenes Ask-Bid.\n",
    "\n",
    "Se espera obtener una serie de tiempo para el volumen Ask y Bid de cada timestamp del LO, así como el volumen total y el promedio de precios Mid-Price y VWAP para cada uno de los exchanges seleccionados. Además, se utilizará Plotly para visualizar y graficar los datos obtenidos para cada uno de los exchanges, lo que permitirá una mejor comprensión del comportamiento del mercado en cada uno de ellos.</font>"
   ]
  },
  {
   "cell_type": "markdown",
   "metadata": {},
   "source": [
    "## <font color= #6B6B6B> 2. Objetivos </font>"
   ]
  },
  {
   "cell_type": "markdown",
   "metadata": {},
   "source": [
    "- Utilizar la librería ccxt de Python para consultar información del Libro de Ordenes (LO) de criptomonedas de diversos exchanges.\n",
    "- Extraer datos relevantes como ask, ask-volume, bid, bid-volume y spread.\n",
    "- Construir series de tiempo para:\n",
    "- Ask-volume para cada timestamp del LO.\n",
    "- Bid-volume para cada timestamp del LO.\n",
    "- Total Volume (ask-bid) para cada timestamp del LO.\n",
    "- Mid-Price (promedio de Top Of the Book) para cada timestamp del LO.\n",
    "- VWAP para cada timestamp del LO.\n",
    "- Graficar usando Plotly para Python cada una de las series de tiempo para cada uno de los exchanges.\n",
    "</font>\n"
   ]
  },
  {
   "cell_type": "markdown",
   "metadata": {},
   "source": [
    "## <font color= #6B6B6B> 3. Descripción de los datos </font>"
   ]
  },
  {
   "cell_type": "markdown",
   "metadata": {},
   "source": [
    "<hr style=\"border:0.02in solid gray\"> </hr>"
   ]
  },
  {
   "cell_type": "markdown",
   "metadata": {},
   "source": [
    "Exchange markets:\n",
    "- Bigone\n",
    "- Blockchaincom\n",
    "- Bitso\n",
    "- Bitforex\n",
    "\n",
    "Monedas: \n",
    "- BTC/USDT\n",
    "- ETH/USDT\n",
    "\n",
    "Los datos descargados son del libro de órdenes de 3 diferentes exchanges, se obtuvieron los datos históricos de 1 hora para cada moneda. A continuación de presentan el libro de ordenes de las dos monedas:"
   ]
  },
  {
   "cell_type": "code",
   "execution_count": null,
   "metadata": {},
   "outputs": [],
   "source": []
  },
  {
   "cell_type": "markdown",
   "metadata": {},
   "source": [
    "## <font color= #6B6B6B> 4. Visualización de Microestructura  </font>"
   ]
  },
  {
   "cell_type": "markdown",
   "metadata": {},
   "source": [
    "#### BTC/USDT"
   ]
  },
  {
   "cell_type": "code",
   "execution_count": 2,
   "metadata": {},
   "outputs": [
    {
     "data": {
      "text/html": [
       "<div>\n",
       "<style scoped>\n",
       "    .dataframe tbody tr th:only-of-type {\n",
       "        vertical-align: middle;\n",
       "    }\n",
       "\n",
       "    .dataframe tbody tr th {\n",
       "        vertical-align: top;\n",
       "    }\n",
       "\n",
       "    .dataframe thead th {\n",
       "        text-align: right;\n",
       "    }\n",
       "</style>\n",
       "<table border=\"1\" class=\"dataframe\">\n",
       "  <thead>\n",
       "    <tr style=\"text-align: right;\">\n",
       "      <th></th>\n",
       "      <th>exchange</th>\n",
       "      <th>datetime</th>\n",
       "      <th>ask_size</th>\n",
       "      <th>bid_size</th>\n",
       "      <th>mid_price</th>\n",
       "      <th>vwap</th>\n",
       "      <th>levels</th>\n",
       "    </tr>\n",
       "  </thead>\n",
       "  <tbody>\n",
       "    <tr>\n",
       "      <th>0</th>\n",
       "      <td>bigone</td>\n",
       "      <td>2023-04-25T03:20:29.631Z</td>\n",
       "      <td>14.547764</td>\n",
       "      <td>8.440486</td>\n",
       "      <td>27417.855</td>\n",
       "      <td>27470.6607</td>\n",
       "      <td>50</td>\n",
       "    </tr>\n",
       "    <tr>\n",
       "      <th>1</th>\n",
       "      <td>bigone</td>\n",
       "      <td>2023-04-25T03:20:31.015Z</td>\n",
       "      <td>14.547764</td>\n",
       "      <td>8.440486</td>\n",
       "      <td>27417.855</td>\n",
       "      <td>27470.6618</td>\n",
       "      <td>50</td>\n",
       "    </tr>\n",
       "    <tr>\n",
       "      <th>2</th>\n",
       "      <td>bigone</td>\n",
       "      <td>2023-04-25T03:20:32.410Z</td>\n",
       "      <td>14.547764</td>\n",
       "      <td>8.440486</td>\n",
       "      <td>27417.855</td>\n",
       "      <td>27470.6640</td>\n",
       "      <td>50</td>\n",
       "    </tr>\n",
       "    <tr>\n",
       "      <th>3</th>\n",
       "      <td>bigone</td>\n",
       "      <td>2023-04-25T03:20:33.798Z</td>\n",
       "      <td>14.547764</td>\n",
       "      <td>8.440486</td>\n",
       "      <td>27417.855</td>\n",
       "      <td>27470.6651</td>\n",
       "      <td>50</td>\n",
       "    </tr>\n",
       "    <tr>\n",
       "      <th>4</th>\n",
       "      <td>bigone</td>\n",
       "      <td>2023-04-25T03:20:35.190Z</td>\n",
       "      <td>14.547764</td>\n",
       "      <td>8.440486</td>\n",
       "      <td>27417.855</td>\n",
       "      <td>27470.6662</td>\n",
       "      <td>50</td>\n",
       "    </tr>\n",
       "    <tr>\n",
       "      <th>...</th>\n",
       "      <td>...</td>\n",
       "      <td>...</td>\n",
       "      <td>...</td>\n",
       "      <td>...</td>\n",
       "      <td>...</td>\n",
       "      <td>...</td>\n",
       "      <td>...</td>\n",
       "    </tr>\n",
       "    <tr>\n",
       "      <th>9161</th>\n",
       "      <td>bitso</td>\n",
       "      <td>2023-04-25T04:20:19.165Z</td>\n",
       "      <td>10.723878</td>\n",
       "      <td>11.183684</td>\n",
       "      <td>27382.000</td>\n",
       "      <td>27373.3815</td>\n",
       "      <td>50</td>\n",
       "    </tr>\n",
       "    <tr>\n",
       "      <th>9162</th>\n",
       "      <td>bitso</td>\n",
       "      <td>2023-04-25T04:20:21.300Z</td>\n",
       "      <td>10.875841</td>\n",
       "      <td>11.183665</td>\n",
       "      <td>27383.000</td>\n",
       "      <td>27381.2018</td>\n",
       "      <td>50</td>\n",
       "    </tr>\n",
       "    <tr>\n",
       "      <th>9163</th>\n",
       "      <td>bitso</td>\n",
       "      <td>2023-04-25T04:20:23.447Z</td>\n",
       "      <td>10.634165</td>\n",
       "      <td>11.183665</td>\n",
       "      <td>27384.000</td>\n",
       "      <td>27369.7020</td>\n",
       "      <td>50</td>\n",
       "    </tr>\n",
       "    <tr>\n",
       "      <th>9164</th>\n",
       "      <td>bitso</td>\n",
       "      <td>2023-04-25T04:20:25.576Z</td>\n",
       "      <td>10.634165</td>\n",
       "      <td>11.176242</td>\n",
       "      <td>27385.000</td>\n",
       "      <td>27369.8473</td>\n",
       "      <td>50</td>\n",
       "    </tr>\n",
       "    <tr>\n",
       "      <th>9165</th>\n",
       "      <td>bitso</td>\n",
       "      <td>2023-04-25T04:20:27.714Z</td>\n",
       "      <td>10.634165</td>\n",
       "      <td>11.055496</td>\n",
       "      <td>27386.000</td>\n",
       "      <td>27370.0004</td>\n",
       "      <td>50</td>\n",
       "    </tr>\n",
       "  </tbody>\n",
       "</table>\n",
       "<p>9166 rows × 7 columns</p>\n",
       "</div>"
      ],
      "text/plain": [
       "     exchange                  datetime   ask_size   bid_size  mid_price  \\\n",
       "0      bigone  2023-04-25T03:20:29.631Z  14.547764   8.440486  27417.855   \n",
       "1      bigone  2023-04-25T03:20:31.015Z  14.547764   8.440486  27417.855   \n",
       "2      bigone  2023-04-25T03:20:32.410Z  14.547764   8.440486  27417.855   \n",
       "3      bigone  2023-04-25T03:20:33.798Z  14.547764   8.440486  27417.855   \n",
       "4      bigone  2023-04-25T03:20:35.190Z  14.547764   8.440486  27417.855   \n",
       "...       ...                       ...        ...        ...        ...   \n",
       "9161    bitso  2023-04-25T04:20:19.165Z  10.723878  11.183684  27382.000   \n",
       "9162    bitso  2023-04-25T04:20:21.300Z  10.875841  11.183665  27383.000   \n",
       "9163    bitso  2023-04-25T04:20:23.447Z  10.634165  11.183665  27384.000   \n",
       "9164    bitso  2023-04-25T04:20:25.576Z  10.634165  11.176242  27385.000   \n",
       "9165    bitso  2023-04-25T04:20:27.714Z  10.634165  11.055496  27386.000   \n",
       "\n",
       "            vwap  levels  \n",
       "0     27470.6607      50  \n",
       "1     27470.6618      50  \n",
       "2     27470.6640      50  \n",
       "3     27470.6651      50  \n",
       "4     27470.6662      50  \n",
       "...          ...     ...  \n",
       "9161  27373.3815      50  \n",
       "9162  27381.2018      50  \n",
       "9163  27369.7020      50  \n",
       "9164  27369.8473      50  \n",
       "9165  27370.0004      50  \n",
       "\n",
       "[9166 rows x 7 columns]"
      ]
     },
     "execution_count": 2,
     "metadata": {},
     "output_type": "execute_result"
    }
   ],
   "source": [
    "mn.btc"
   ]
  },
  {
   "cell_type": "markdown",
   "metadata": {},
   "source": [
    "#### ETH/USDT"
   ]
  },
  {
   "cell_type": "code",
   "execution_count": 3,
   "metadata": {},
   "outputs": [
    {
     "data": {
      "text/html": [
       "<div>\n",
       "<style scoped>\n",
       "    .dataframe tbody tr th:only-of-type {\n",
       "        vertical-align: middle;\n",
       "    }\n",
       "\n",
       "    .dataframe tbody tr th {\n",
       "        vertical-align: top;\n",
       "    }\n",
       "\n",
       "    .dataframe thead th {\n",
       "        text-align: right;\n",
       "    }\n",
       "</style>\n",
       "<table border=\"1\" class=\"dataframe\">\n",
       "  <thead>\n",
       "    <tr style=\"text-align: right;\">\n",
       "      <th></th>\n",
       "      <th>exchange</th>\n",
       "      <th>datetime</th>\n",
       "      <th>ask_size</th>\n",
       "      <th>bid_size</th>\n",
       "      <th>mid_price</th>\n",
       "      <th>vwap</th>\n",
       "      <th>levels</th>\n",
       "    </tr>\n",
       "  </thead>\n",
       "  <tbody>\n",
       "    <tr>\n",
       "      <th>0</th>\n",
       "      <td>bigone</td>\n",
       "      <td>2023-04-25T05:17:02.051Z</td>\n",
       "      <td>995.76417</td>\n",
       "      <td>340.63289</td>\n",
       "      <td>1823.050</td>\n",
       "      <td>1840.4621</td>\n",
       "      <td>50</td>\n",
       "    </tr>\n",
       "    <tr>\n",
       "      <th>1</th>\n",
       "      <td>bigone</td>\n",
       "      <td>2023-04-25T05:17:03.416Z</td>\n",
       "      <td>995.76417</td>\n",
       "      <td>340.63289</td>\n",
       "      <td>1823.050</td>\n",
       "      <td>1840.4621</td>\n",
       "      <td>50</td>\n",
       "    </tr>\n",
       "    <tr>\n",
       "      <th>2</th>\n",
       "      <td>bigone</td>\n",
       "      <td>2023-04-25T05:17:04.784Z</td>\n",
       "      <td>995.76417</td>\n",
       "      <td>340.63289</td>\n",
       "      <td>1823.050</td>\n",
       "      <td>1840.4621</td>\n",
       "      <td>50</td>\n",
       "    </tr>\n",
       "    <tr>\n",
       "      <th>3</th>\n",
       "      <td>bigone</td>\n",
       "      <td>2023-04-25T05:17:06.156Z</td>\n",
       "      <td>995.76417</td>\n",
       "      <td>340.63289</td>\n",
       "      <td>1823.050</td>\n",
       "      <td>1840.4621</td>\n",
       "      <td>50</td>\n",
       "    </tr>\n",
       "    <tr>\n",
       "      <th>4</th>\n",
       "      <td>bigone</td>\n",
       "      <td>2023-04-25T05:17:07.515Z</td>\n",
       "      <td>995.76417</td>\n",
       "      <td>340.63289</td>\n",
       "      <td>1823.050</td>\n",
       "      <td>1840.4621</td>\n",
       "      <td>50</td>\n",
       "    </tr>\n",
       "    <tr>\n",
       "      <th>...</th>\n",
       "      <td>...</td>\n",
       "      <td>...</td>\n",
       "      <td>...</td>\n",
       "      <td>...</td>\n",
       "      <td>...</td>\n",
       "      <td>...</td>\n",
       "      <td>...</td>\n",
       "    </tr>\n",
       "    <tr>\n",
       "      <th>9047</th>\n",
       "      <td>bitforex</td>\n",
       "      <td>2023-04-25T06:16:50.378Z</td>\n",
       "      <td>8.03350</td>\n",
       "      <td>8.15170</td>\n",
       "      <td>1829.755</td>\n",
       "      <td>1829.7540</td>\n",
       "      <td>5</td>\n",
       "    </tr>\n",
       "    <tr>\n",
       "      <th>9048</th>\n",
       "      <td>bitforex</td>\n",
       "      <td>2023-04-25T06:16:52.736Z</td>\n",
       "      <td>9.38950</td>\n",
       "      <td>6.76800</td>\n",
       "      <td>1829.755</td>\n",
       "      <td>1829.7605</td>\n",
       "      <td>5</td>\n",
       "    </tr>\n",
       "    <tr>\n",
       "      <th>9049</th>\n",
       "      <td>bitforex</td>\n",
       "      <td>2023-04-25T06:16:55.009Z</td>\n",
       "      <td>9.46060</td>\n",
       "      <td>8.75260</td>\n",
       "      <td>1829.755</td>\n",
       "      <td>1829.7552</td>\n",
       "      <td>5</td>\n",
       "    </tr>\n",
       "    <tr>\n",
       "      <th>9050</th>\n",
       "      <td>bitforex</td>\n",
       "      <td>2023-04-25T06:16:57.313Z</td>\n",
       "      <td>6.23120</td>\n",
       "      <td>7.93060</td>\n",
       "      <td>1829.755</td>\n",
       "      <td>1829.7516</td>\n",
       "      <td>5</td>\n",
       "    </tr>\n",
       "    <tr>\n",
       "      <th>9051</th>\n",
       "      <td>bitforex</td>\n",
       "      <td>2023-04-25T06:16:59.682Z</td>\n",
       "      <td>6.35020</td>\n",
       "      <td>8.64190</td>\n",
       "      <td>1829.755</td>\n",
       "      <td>1829.7516</td>\n",
       "      <td>5</td>\n",
       "    </tr>\n",
       "  </tbody>\n",
       "</table>\n",
       "<p>9052 rows × 7 columns</p>\n",
       "</div>"
      ],
      "text/plain": [
       "      exchange                  datetime   ask_size   bid_size  mid_price  \\\n",
       "0       bigone  2023-04-25T05:17:02.051Z  995.76417  340.63289   1823.050   \n",
       "1       bigone  2023-04-25T05:17:03.416Z  995.76417  340.63289   1823.050   \n",
       "2       bigone  2023-04-25T05:17:04.784Z  995.76417  340.63289   1823.050   \n",
       "3       bigone  2023-04-25T05:17:06.156Z  995.76417  340.63289   1823.050   \n",
       "4       bigone  2023-04-25T05:17:07.515Z  995.76417  340.63289   1823.050   \n",
       "...        ...                       ...        ...        ...        ...   \n",
       "9047  bitforex  2023-04-25T06:16:50.378Z    8.03350    8.15170   1829.755   \n",
       "9048  bitforex  2023-04-25T06:16:52.736Z    9.38950    6.76800   1829.755   \n",
       "9049  bitforex  2023-04-25T06:16:55.009Z    9.46060    8.75260   1829.755   \n",
       "9050  bitforex  2023-04-25T06:16:57.313Z    6.23120    7.93060   1829.755   \n",
       "9051  bitforex  2023-04-25T06:16:59.682Z    6.35020    8.64190   1829.755   \n",
       "\n",
       "           vwap  levels  \n",
       "0     1840.4621      50  \n",
       "1     1840.4621      50  \n",
       "2     1840.4621      50  \n",
       "3     1840.4621      50  \n",
       "4     1840.4621      50  \n",
       "...         ...     ...  \n",
       "9047  1829.7540       5  \n",
       "9048  1829.7605       5  \n",
       "9049  1829.7552       5  \n",
       "9050  1829.7516       5  \n",
       "9051  1829.7516       5  \n",
       "\n",
       "[9052 rows x 7 columns]"
      ]
     },
     "execution_count": 3,
     "metadata": {},
     "output_type": "execute_result"
    }
   ],
   "source": [
    "mn.eth"
   ]
  },
  {
   "cell_type": "markdown",
   "metadata": {},
   "source": [
    "## <font color= #6B6B6B> 5. Modelado de Microestructura  </font>"
   ]
  },
  {
   "cell_type": "markdown",
   "metadata": {},
   "source": [
    "Para realizar el modelado de la estructura se calculó el Effective Spread utilizando el modelo propuesto por Roll."
   ]
  },
  {
   "cell_type": "code",
   "execution_count": null,
   "metadata": {},
   "outputs": [],
   "source": []
  },
  {
   "cell_type": "markdown",
   "metadata": {},
   "source": [
    "## <font color= #6B6B6B> 6. Conclusión  </font>"
   ]
  },
  {
   "cell_type": "markdown",
   "metadata": {},
   "source": [
    "<hr style=\"border:0.02in solid gray\"> </hr>"
   ]
  },
  {
   "cell_type": "markdown",
   "metadata": {},
   "source": [
    "## <font color= #6B6B6B> 7. Referencias  </font>"
   ]
  },
  {
   "cell_type": "markdown",
   "metadata": {},
   "source": [
    "<hr style=\"border:0.02in solid gray\"> </hr>"
   ]
  },
  {
   "cell_type": "markdown",
   "metadata": {},
   "source": [
    "ref\n"
   ]
  }
 ],
 "metadata": {
  "kernelspec": {
   "display_name": "Python 3 (ipykernel)",
   "language": "python",
   "name": "python3"
  },
  "language_info": {
   "codemirror_mode": {
    "name": "ipython",
    "version": 3
   },
   "file_extension": ".py",
   "mimetype": "text/x-python",
   "name": "python",
   "nbconvert_exporter": "python",
   "pygments_lexer": "ipython3",
   "version": "3.9.7"
  }
 },
 "nbformat": 4,
 "nbformat_minor": 4
}
